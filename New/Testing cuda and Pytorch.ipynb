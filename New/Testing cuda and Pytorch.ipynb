{
 "cells": [
  {
   "cell_type": "code",
   "execution_count": 1,
   "id": "e7a26b1b-3294-404b-8bc3-a002f9749df3",
   "metadata": {},
   "outputs": [],
   "source": [
    "import os\n",
    "#os.environ['CUDA_LAUNCH_BLOCKING'] = \"1\"\n",
    "import torch"
   ]
  },
  {
   "cell_type": "code",
   "execution_count": 2,
   "id": "5c649e80-93cd-44db-8b1e-6e648e907cfb",
   "metadata": {},
   "outputs": [
    {
     "name": "stdout",
     "output_type": "stream",
     "text": [
      "tensor([[0.8192, 0.5244, 0.4297],\n",
      "        [0.0504, 0.3000, 0.1557],\n",
      "        [0.6155, 0.2603, 0.1093],\n",
      "        [0.5693, 0.5165, 0.3849],\n",
      "        [0.1397, 0.5344, 0.3297]])\n"
     ]
    }
   ],
   "source": [
    "x = torch.rand(5, 3)\n",
    "print(x)"
   ]
  },
  {
   "cell_type": "code",
   "execution_count": 3,
   "id": "b4953855-70cf-42d1-83ec-a39c5f1c2853",
   "metadata": {},
   "outputs": [
    {
     "data": {
      "text/plain": [
       "True"
      ]
     },
     "execution_count": 3,
     "metadata": {},
     "output_type": "execute_result"
    }
   ],
   "source": [
    "torch.cuda.is_available()"
   ]
  },
  {
   "cell_type": "code",
   "execution_count": 4,
   "id": "26076e57-7ea2-4f06-b3d2-519d6a16b455",
   "metadata": {},
   "outputs": [
    {
     "data": {
      "text/plain": [
       "True"
      ]
     },
     "execution_count": 4,
     "metadata": {},
     "output_type": "execute_result"
    }
   ],
   "source": [
    "torch.distributed.is_available()"
   ]
  },
  {
   "cell_type": "code",
   "execution_count": 5,
   "id": "224bb541-0788-4acb-9936-38093d6152bc",
   "metadata": {},
   "outputs": [
    {
     "name": "stdout",
     "output_type": "stream",
     "text": [
      "11.3\n"
     ]
    }
   ],
   "source": [
    "print(torch.version.cuda)"
   ]
  },
  {
   "cell_type": "code",
   "execution_count": 6,
   "id": "7ab569aa-35cc-437e-821e-c292855a2127",
   "metadata": {},
   "outputs": [
    {
     "name": "stdout",
     "output_type": "stream",
     "text": [
      "torch version : 1.12.1+cu113\n",
      "cuda version  11.3\n",
      "cudnn version  8302\n",
      "decive name  NVIDIA GeForce RTX 3060\n",
      "device properties  _CudaDeviceProperties(name='NVIDIA GeForce RTX 3060', major=8, minor=6, total_memory=12045MB, multi_processor_count=28)\n",
      "torch.Size([1, 3, 222, 222])\n"
     ]
    }
   ],
   "source": [
    "os.environ['CUDA_LAUNCH_BLOCKING'] = \"1\"\n",
    "print(\"torch version :\",torch.__version__)\n",
    "print(\"cuda version \",torch.version.cuda)\n",
    "print(\"cudnn version \",torch.backends.cudnn.version())\n",
    "print(\"decive name \",torch.cuda.get_device_name(0))\n",
    "print(\"device properties \",torch.cuda.get_device_properties(0))\n",
    "\n",
    "x = torch.randn(1, 3, 224, 224, device='cuda')\n",
    "conv = torch.nn.Conv2d(3, 3, 3).cuda()\n",
    "\n",
    "out = conv(x)\n",
    "print(out.shape)\n"
   ]
  },
  {
   "cell_type": "code",
   "execution_count": 7,
   "id": "f6e6fdba-9d90-4a08-b7e1-858c26932548",
   "metadata": {},
   "outputs": [
    {
     "name": "stdout",
     "output_type": "stream",
     "text": [
      "/home/crns/anaconda3/lib/python3.9/subprocess.py\n"
     ]
    }
   ],
   "source": [
    "import subprocess\n",
    "print(subprocess.__file__)"
   ]
  },
  {
   "cell_type": "code",
   "execution_count": null,
   "id": "94a3ce94-4956-497e-8c04-147c2580ff27",
   "metadata": {},
   "outputs": [],
   "source": []
  },
  {
   "cell_type": "code",
   "execution_count": null,
   "id": "25fd2372-449d-479b-a80e-5fb879f6fc1b",
   "metadata": {},
   "outputs": [],
   "source": []
  },
  {
   "cell_type": "code",
   "execution_count": 9,
   "id": "f385e59a-bbcf-43b9-8c17-3138a26abee2",
   "metadata": {},
   "outputs": [],
   "source": [
    "#torch.distributed.init_process_group(nccl, init_method=None, timeout=datetime.timedelta(seconds=1800), world_size=- 1, rank=- 1, store=None, group_name='', pg_options=None)"
   ]
  },
  {
   "cell_type": "code",
   "execution_count": 8,
   "id": "67ac0e3b-add4-4e96-8d1d-8f4d425a778f",
   "metadata": {},
   "outputs": [
    {
     "name": "stdout",
     "output_type": "stream",
     "text": [
      "Collecting flwr[simulation]\n",
      "  Downloading flwr-1.3.0-py3-none-any.whl (139 kB)\n",
      "\u001b[2K     \u001b[38;2;114;156;31m━━━━━━━━━━━━━━━━━━━━━━━━━━━━━━━━━━━━━\u001b[0m \u001b[32m139.3/139.3 kB\u001b[0m \u001b[31m454.3 kB/s\u001b[0m eta \u001b[36m0:00:00\u001b[0m1m383.2 kB/s\u001b[0m eta \u001b[36m0:00:01\u001b[0m\n",
      "\u001b[?25hCollecting iterators<0.0.3,>=0.0.2\n",
      "  Downloading iterators-0.0.2-py3-none-any.whl (3.9 kB)\n",
      "Collecting protobuf<4.0.0,>=3.19.0\n",
      "  Downloading protobuf-3.20.3-cp37-cp37m-manylinux_2_5_x86_64.manylinux1_x86_64.whl (1.0 MB)\n",
      "\u001b[2K     \u001b[38;2;114;156;31m━━━━━━━━━━━━━━━━━━━━━━━━━━━━━━━━━━━━━━━━\u001b[0m \u001b[32m1.0/1.0 MB\u001b[0m \u001b[31m1.3 MB/s\u001b[0m eta \u001b[36m0:00:00\u001b[0m MB/s\u001b[0m eta \u001b[36m0:00:01\u001b[0m:01\u001b[0m\n",
      "\u001b[?25hRequirement already satisfied: numpy<2.0.0,>=1.21.0 in /home/crns/anaconda3/envs/FLUTE/lib/python3.7/site-packages (from flwr[simulation]) (1.21.6)\n",
      "Collecting grpcio!=1.52.0,<2.0.0,>=1.43.0\n",
      "  Downloading grpcio-1.51.1-cp37-cp37m-manylinux_2_17_x86_64.manylinux2014_x86_64.whl (4.8 MB)\n",
      "\u001b[2K     \u001b[38;2;114;156;31m━━━━━━━━━━━━━━━━━━━━━━━━━━━━━━━━━━━━━━━━\u001b[0m \u001b[32m4.8/4.8 MB\u001b[0m \u001b[31m2.3 MB/s\u001b[0m eta \u001b[36m0:00:00\u001b[0mm eta \u001b[36m0:00:01\u001b[0m[36m0:00:01\u001b[0m\n",
      "\u001b[?25hRequirement already satisfied: importlib-metadata<5.0.0,>=4.0.0 in /home/crns/anaconda3/envs/FLUTE/lib/python3.7/site-packages (from flwr[simulation]) (4.13.0)\n",
      "Collecting ray[default]<2.3.0,>=2.2.0\n",
      "  Downloading ray-2.2.0-cp37-cp37m-manylinux2014_x86_64.whl (57.7 MB)\n",
      "\u001b[2K     \u001b[38;2;114;156;31m━━━━━━━━━━━━━━━━━━━━━━━━━━━━━━━━━━━━━━━━\u001b[0m \u001b[32m57.7/57.7 MB\u001b[0m \u001b[31m3.1 MB/s\u001b[0m eta \u001b[36m0:00:00\u001b[0mm eta \u001b[36m0:00:01\u001b[0m[36m0:00:01\u001b[0m\n",
      "\u001b[?25hRequirement already satisfied: typing-extensions>=3.6.4 in /home/crns/anaconda3/envs/FLUTE/lib/python3.7/site-packages (from importlib-metadata<5.0.0,>=4.0.0->flwr[simulation]) (4.4.0)\n",
      "Requirement already satisfied: zipp>=0.5 in /home/crns/anaconda3/envs/FLUTE/lib/python3.7/site-packages (from importlib-metadata<5.0.0,>=4.0.0->flwr[simulation]) (3.13.0)\n",
      "Collecting virtualenv>=20.0.24\n",
      "  Downloading virtualenv-20.19.0-py3-none-any.whl (8.7 MB)\n",
      "\u001b[2K     \u001b[38;2;114;156;31m━━━━━━━━━━━━━━━━━━━━━━━━━━━━━━━━━━━━━━━━\u001b[0m \u001b[32m8.7/8.7 MB\u001b[0m \u001b[31m2.4 MB/s\u001b[0m eta \u001b[36m0:00:00\u001b[0mm eta \u001b[36m0:00:01\u001b[0m[36m0:00:01\u001b[0m\n",
      "\u001b[?25hRequirement already satisfied: requests in /home/crns/anaconda3/envs/FLUTE/lib/python3.7/site-packages (from ray[default]<2.3.0,>=2.2.0->flwr[simulation]) (2.28.2)\n",
      "Requirement already satisfied: attrs in /home/crns/anaconda3/envs/FLUTE/lib/python3.7/site-packages (from ray[default]<2.3.0,>=2.2.0->flwr[simulation]) (22.2.0)\n",
      "Requirement already satisfied: filelock in /home/crns/anaconda3/envs/FLUTE/lib/python3.7/site-packages (from ray[default]<2.3.0,>=2.2.0->flwr[simulation]) (3.9.0)\n",
      "Requirement already satisfied: jsonschema in /home/crns/anaconda3/envs/FLUTE/lib/python3.7/site-packages (from ray[default]<2.3.0,>=2.2.0->flwr[simulation]) (4.17.3)\n",
      "Collecting msgpack<2.0.0,>=1.0.0\n",
      "  Downloading msgpack-1.0.4-cp37-cp37m-manylinux_2_17_x86_64.manylinux2014_x86_64.whl (299 kB)\n",
      "\u001b[2K     \u001b[38;2;114;156;31m━━━━━━━━━━━━━━━━━━━━━━━━━━━━━━━━━━━━━━━\u001b[0m \u001b[32m299.8/299.8 kB\u001b[0m \u001b[31m2.6 MB/s\u001b[0m eta \u001b[36m0:00:00\u001b[0m[31m2.3 MB/s\u001b[0m eta \u001b[36m0:00:01\u001b[0m\n",
      "\u001b[?25hCollecting frozenlist\n",
      "  Downloading frozenlist-1.3.3-cp37-cp37m-manylinux_2_5_x86_64.manylinux1_x86_64.manylinux_2_17_x86_64.manylinux2014_x86_64.whl (148 kB)\n",
      "\u001b[2K     \u001b[38;2;114;156;31m━━━━━━━━━━━━━━━━━━━━━━━━━━━━━━━━━━━━━━━\u001b[0m \u001b[32m148.0/148.0 kB\u001b[0m \u001b[31m3.2 MB/s\u001b[0m eta \u001b[36m0:00:00\u001b[0m[31m4.7 MB/s\u001b[0m eta \u001b[36m0:00:01\u001b[0m\n",
      "\u001b[?25hRequirement already satisfied: click>=7.0 in /home/crns/anaconda3/envs/FLUTE/lib/python3.7/site-packages (from ray[default]<2.3.0,>=2.2.0->flwr[simulation]) (8.1.3)\n",
      "Requirement already satisfied: pyyaml in /home/crns/anaconda3/envs/FLUTE/lib/python3.7/site-packages (from ray[default]<2.3.0,>=2.2.0->flwr[simulation]) (6.0)\n",
      "Collecting aiosignal\n",
      "  Downloading aiosignal-1.3.1-py3-none-any.whl (7.6 kB)\n",
      "Collecting pydantic\n",
      "  Downloading pydantic-1.10.4-cp37-cp37m-manylinux_2_17_x86_64.manylinux2014_x86_64.whl (3.1 MB)\n",
      "\u001b[2K     \u001b[38;2;114;156;31m━━━━━━━━━━━━━━━━━━━━━━━━━━━━━━━━━━━━━━━━\u001b[0m \u001b[32m3.1/3.1 MB\u001b[0m \u001b[31m2.5 MB/s\u001b[0m eta \u001b[36m0:00:00\u001b[0mm eta \u001b[36m0:00:01\u001b[0m0:01\u001b[0m:01\u001b[0m\n",
      "\u001b[?25hCollecting smart-open\n",
      "  Downloading smart_open-6.3.0-py3-none-any.whl (56 kB)\n",
      "\u001b[2K     \u001b[38;2;114;156;31m━━━━━━━━━━━━━━━━━━━━━━━━━━━━━━━━━━━━━━━━\u001b[0m \u001b[32m56.8/56.8 kB\u001b[0m \u001b[31m5.7 MB/s\u001b[0m eta \u001b[36m0:00:00\u001b[0m\n",
      "\u001b[?25hCollecting aiohttp>=3.7\n",
      "  Downloading aiohttp-3.8.4-cp37-cp37m-manylinux_2_17_x86_64.manylinux2014_x86_64.whl (948 kB)\n",
      "\u001b[2K     \u001b[38;2;114;156;31m━━━━━━━━━━━━━━━━━━━━━━━━━━━━━━━━━━━━━━━\u001b[0m \u001b[32m948.1/948.1 kB\u001b[0m \u001b[31m2.1 MB/s\u001b[0m eta \u001b[36m0:00:00\u001b[0m MB/s\u001b[0m eta \u001b[36m0:00:01\u001b[0m:01\u001b[0m\n",
      "\u001b[?25hCollecting aiohttp-cors\n",
      "  Downloading aiohttp_cors-0.7.0-py3-none-any.whl (27 kB)\n",
      "Collecting py-spy>=0.2.0\n",
      "  Downloading py_spy-0.3.14-py2.py3-none-manylinux_2_5_x86_64.manylinux1_x86_64.whl (3.0 MB)\n",
      "\u001b[2K     \u001b[38;2;114;156;31m━━━━━━━━━━━━━━━━━━━━━━━━━━━━━━━━━━━━━━━━\u001b[0m \u001b[32m3.0/3.0 MB\u001b[0m \u001b[31m2.5 MB/s\u001b[0m eta \u001b[36m0:00:00\u001b[0mm eta \u001b[36m0:00:01\u001b[0m[36m0:00:01\u001b[0m\n",
      "\u001b[?25hRequirement already satisfied: opencensus in /home/crns/anaconda3/envs/FLUTE/lib/python3.7/site-packages (from ray[default]<2.3.0,>=2.2.0->flwr[simulation]) (0.11.1)\n",
      "Collecting colorful\n",
      "  Downloading colorful-0.5.5-py2.py3-none-any.whl (201 kB)\n",
      "\u001b[2K     \u001b[38;2;114;156;31m━━━━━━━━━━━━━━━━━━━━━━━━━━━━━━━━━━━━━━━\u001b[0m \u001b[32m201.4/201.4 kB\u001b[0m \u001b[31m2.5 MB/s\u001b[0m eta \u001b[36m0:00:00\u001b[0m[31m2.6 MB/s\u001b[0m eta \u001b[36m0:00:01\u001b[0m\n",
      "\u001b[?25hCollecting prometheus-client<0.14.0,>=0.7.1\n",
      "  Downloading prometheus_client-0.13.1-py3-none-any.whl (57 kB)\n",
      "\u001b[2K     \u001b[38;2;114;156;31m━━━━━━━━━━━━━━━━━━━━━━━━━━━━━━━━━━━━━━━━\u001b[0m \u001b[32m57.1/57.1 kB\u001b[0m \u001b[31m3.2 MB/s\u001b[0m eta \u001b[36m0:00:00\u001b[0m\n",
      "\u001b[?25hCollecting gpustat>=1.0.0\n",
      "  Downloading gpustat-1.0.0.tar.gz (90 kB)\n",
      "\u001b[2K     \u001b[38;2;114;156;31m━━━━━━━━━━━━━━━━━━━━━━━━━━━━━━━━━━━━━━━━\u001b[0m \u001b[32m90.5/90.5 kB\u001b[0m \u001b[31m2.8 MB/s\u001b[0m eta \u001b[36m0:00:00\u001b[0m MB/s\u001b[0m eta \u001b[36m0:00:01\u001b[0m\n",
      "\u001b[?25h  Preparing metadata (setup.py) ... \u001b[?25ldone\n",
      "\u001b[?25hCollecting asynctest==0.13.0\n",
      "  Downloading asynctest-0.13.0-py3-none-any.whl (26 kB)\n",
      "Collecting async-timeout<5.0,>=4.0.0a3\n",
      "  Downloading async_timeout-4.0.2-py3-none-any.whl (5.8 kB)\n",
      "Collecting yarl<2.0,>=1.0\n",
      "  Downloading yarl-1.8.2-cp37-cp37m-manylinux_2_17_x86_64.manylinux2014_x86_64.whl (231 kB)\n",
      "\u001b[2K     \u001b[38;2;114;156;31m━━━━━━━━━━━━━━━━━━━━━━━━━━━━━━━━━━━━━━━\u001b[0m \u001b[32m231.4/231.4 kB\u001b[0m \u001b[31m2.9 MB/s\u001b[0m eta \u001b[36m0:00:00\u001b[0m[31m3.0 MB/s\u001b[0m eta \u001b[36m0:00:01\u001b[0m\n",
      "\u001b[?25hCollecting multidict<7.0,>=4.5\n",
      "  Downloading multidict-6.0.4-cp37-cp37m-manylinux_2_17_x86_64.manylinux2014_x86_64.whl (94 kB)\n",
      "\u001b[2K     \u001b[38;2;114;156;31m━━━━━━━━━━━━━━━━━━━━━━━━━━━━━━━━━━━━━━━━\u001b[0m \u001b[32m94.8/94.8 kB\u001b[0m \u001b[31m2.7 MB/s\u001b[0m eta \u001b[36m0:00:00\u001b[0m\n",
      "\u001b[?25hRequirement already satisfied: charset-normalizer<4.0,>=2.0 in /home/crns/anaconda3/envs/FLUTE/lib/python3.7/site-packages (from aiohttp>=3.7->ray[default]<2.3.0,>=2.2.0->flwr[simulation]) (3.0.1)\n",
      "Requirement already satisfied: six>=1.7 in /home/crns/anaconda3/envs/FLUTE/lib/python3.7/site-packages (from gpustat>=1.0.0->ray[default]<2.3.0,>=2.2.0->flwr[simulation]) (1.16.0)\n",
      "Collecting nvidia-ml-py<=11.495.46,>=11.450.129\n",
      "  Downloading nvidia_ml_py-11.495.46-py3-none-any.whl (25 kB)\n",
      "Requirement already satisfied: psutil>=5.6.0 in /home/crns/anaconda3/envs/FLUTE/lib/python3.7/site-packages (from gpustat>=1.0.0->ray[default]<2.3.0,>=2.2.0->flwr[simulation]) (5.9.4)\n",
      "Collecting blessed>=1.17.1\n",
      "  Downloading blessed-1.20.0-py2.py3-none-any.whl (58 kB)\n",
      "\u001b[2K     \u001b[38;2;114;156;31m━━━━━━━━━━━━━━━━━━━━━━━━━━━━━━━━━━━━━━━━\u001b[0m \u001b[32m58.4/58.4 kB\u001b[0m \u001b[31m4.9 MB/s\u001b[0m eta \u001b[36m0:00:00\u001b[0m\n",
      "\u001b[?25hCollecting distlib<1,>=0.3.6\n",
      "  Downloading distlib-0.3.6-py2.py3-none-any.whl (468 kB)\n",
      "\u001b[2K     \u001b[38;2;114;156;31m━━━━━━━━━━━━━━━━━━━━━━━━━━━━━━━━━━━━━━━\u001b[0m \u001b[32m468.5/468.5 kB\u001b[0m \u001b[31m2.7 MB/s\u001b[0m eta \u001b[36m0:00:00\u001b[0m MB/s\u001b[0m eta \u001b[36m0:00:01\u001b[0m:01\u001b[0m\n",
      "\u001b[?25hCollecting platformdirs<4,>=2.4\n",
      "  Downloading platformdirs-3.0.0-py3-none-any.whl (14 kB)\n",
      "Requirement already satisfied: pkgutil-resolve-name>=1.3.10 in /home/crns/anaconda3/envs/FLUTE/lib/python3.7/site-packages (from jsonschema->ray[default]<2.3.0,>=2.2.0->flwr[simulation]) (1.3.10)\n",
      "Requirement already satisfied: pyrsistent!=0.17.0,!=0.17.1,!=0.17.2,>=0.14.0 in /home/crns/anaconda3/envs/FLUTE/lib/python3.7/site-packages (from jsonschema->ray[default]<2.3.0,>=2.2.0->flwr[simulation]) (0.19.3)\n",
      "Requirement already satisfied: importlib-resources>=1.4.0 in /home/crns/anaconda3/envs/FLUTE/lib/python3.7/site-packages (from jsonschema->ray[default]<2.3.0,>=2.2.0->flwr[simulation]) (5.10.2)\n",
      "Requirement already satisfied: google-api-core<3.0.0,>=1.0.0 in /home/crns/anaconda3/envs/FLUTE/lib/python3.7/site-packages (from opencensus->ray[default]<2.3.0,>=2.2.0->flwr[simulation]) (2.11.0)\n",
      "Requirement already satisfied: opencensus-context>=0.1.3 in /home/crns/anaconda3/envs/FLUTE/lib/python3.7/site-packages (from opencensus->ray[default]<2.3.0,>=2.2.0->flwr[simulation]) (0.1.3)\n",
      "Requirement already satisfied: urllib3<1.27,>=1.21.1 in /home/crns/anaconda3/envs/FLUTE/lib/python3.7/site-packages (from requests->ray[default]<2.3.0,>=2.2.0->flwr[simulation]) (1.26.14)\n",
      "Requirement already satisfied: idna<4,>=2.5 in /home/crns/anaconda3/envs/FLUTE/lib/python3.7/site-packages (from requests->ray[default]<2.3.0,>=2.2.0->flwr[simulation]) (3.4)\n",
      "Requirement already satisfied: certifi>=2017.4.17 in /home/crns/anaconda3/envs/FLUTE/lib/python3.7/site-packages (from requests->ray[default]<2.3.0,>=2.2.0->flwr[simulation]) (2022.12.7)\n",
      "Requirement already satisfied: wcwidth>=0.1.4 in /home/crns/anaconda3/envs/FLUTE/lib/python3.7/site-packages (from blessed>=1.17.1->gpustat>=1.0.0->ray[default]<2.3.0,>=2.2.0->flwr[simulation]) (0.2.5)\n",
      "Requirement already satisfied: googleapis-common-protos<2.0dev,>=1.56.2 in /home/crns/anaconda3/envs/FLUTE/lib/python3.7/site-packages (from google-api-core<3.0.0,>=1.0.0->opencensus->ray[default]<2.3.0,>=2.2.0->flwr[simulation]) (1.58.0)\n",
      "Requirement already satisfied: google-auth<3.0dev,>=2.14.1 in /home/crns/anaconda3/envs/FLUTE/lib/python3.7/site-packages (from google-api-core<3.0.0,>=1.0.0->opencensus->ray[default]<2.3.0,>=2.2.0->flwr[simulation]) (2.16.0)\n",
      "Requirement already satisfied: pyasn1-modules>=0.2.1 in /home/crns/anaconda3/envs/FLUTE/lib/python3.7/site-packages (from google-auth<3.0dev,>=2.14.1->google-api-core<3.0.0,>=1.0.0->opencensus->ray[default]<2.3.0,>=2.2.0->flwr[simulation]) (0.2.8)\n",
      "Requirement already satisfied: cachetools<6.0,>=2.0.0 in /home/crns/anaconda3/envs/FLUTE/lib/python3.7/site-packages (from google-auth<3.0dev,>=2.14.1->google-api-core<3.0.0,>=1.0.0->opencensus->ray[default]<2.3.0,>=2.2.0->flwr[simulation]) (5.3.0)\n",
      "Requirement already satisfied: rsa<5,>=3.1.4 in /home/crns/anaconda3/envs/FLUTE/lib/python3.7/site-packages (from google-auth<3.0dev,>=2.14.1->google-api-core<3.0.0,>=1.0.0->opencensus->ray[default]<2.3.0,>=2.2.0->flwr[simulation]) (4.9)\n",
      "Requirement already satisfied: pyasn1<0.5.0,>=0.4.6 in /home/crns/anaconda3/envs/FLUTE/lib/python3.7/site-packages (from pyasn1-modules>=0.2.1->google-auth<3.0dev,>=2.14.1->google-api-core<3.0.0,>=1.0.0->opencensus->ray[default]<2.3.0,>=2.2.0->flwr[simulation]) (0.4.8)\n",
      "Building wheels for collected packages: gpustat\n",
      "  Building wheel for gpustat (setup.py) ... \u001b[?25ldone\n",
      "\u001b[?25h  Created wheel for gpustat: filename=gpustat-1.0.0-py3-none-any.whl size=19869 sha256=911db8da4462454f3a868849681e99c3d57d66f3b3f314597d71b7d40d09d026\n",
      "  Stored in directory: /home/crns/.cache/pip/wheels/96/7b/25/9943b38783eb11d4ede71bd454838dc7c7582ae17c1b42a43f\n",
      "Successfully built gpustat\n",
      "Installing collected packages: py-spy, nvidia-ml-py, msgpack, distlib, colorful, smart-open, pydantic, protobuf, prometheus-client, platformdirs, multidict, iterators, grpcio, frozenlist, blessed, asynctest, async-timeout, yarl, virtualenv, gpustat, flwr, aiosignal, ray, aiohttp, aiohttp-cors\n",
      "  Attempting uninstall: protobuf\n",
      "    Found existing installation: protobuf 4.21.12\n",
      "    Uninstalling protobuf-4.21.12:\n",
      "      Successfully uninstalled protobuf-4.21.12\n",
      "  Attempting uninstall: prometheus-client\n",
      "    Found existing installation: prometheus-client 0.14.1\n",
      "    Uninstalling prometheus-client-0.14.1:\n",
      "      Successfully uninstalled prometheus-client-0.14.1\n",
      "Successfully installed aiohttp-3.8.4 aiohttp-cors-0.7.0 aiosignal-1.3.1 async-timeout-4.0.2 asynctest-0.13.0 blessed-1.20.0 colorful-0.5.5 distlib-0.3.6 flwr-1.3.0 frozenlist-1.3.3 gpustat-1.0.0 grpcio-1.51.1 iterators-0.0.2 msgpack-1.0.4 multidict-6.0.4 nvidia-ml-py-11.495.46 platformdirs-3.0.0 prometheus-client-0.13.1 protobuf-3.20.3 py-spy-0.3.14 pydantic-1.10.4 ray-2.2.0 smart-open-6.3.0 virtualenv-20.19.0 yarl-1.8.2\n"
     ]
    }
   ],
   "source": [
    "!python -m pip install flwr[simulation]"
   ]
  },
  {
   "cell_type": "code",
   "execution_count": 9,
   "id": "80cd25ed-c28c-4ab9-b70f-b957ca33fd6c",
   "metadata": {},
   "outputs": [
    {
     "name": "stdout",
     "output_type": "stream",
     "text": [
      "1.3.0\n"
     ]
    }
   ],
   "source": [
    "import flwr\n",
    "print(flwr.__version__)"
   ]
  },
  {
   "cell_type": "code",
   "execution_count": 10,
   "id": "dfd4b7cd-d619-4308-b701-a6e7cf299f0a",
   "metadata": {},
   "outputs": [],
   "source": [
    "config_dict = {\n",
    "    \"dropout\": True,        # str key, bool value\n",
    "    \"learning_rate\": 0.01,  # str key, float value\n",
    "    \"batch_size\": 32,       # str key, int value\n",
    "    \"optimizer\": \"sgd\",     # str key, str value\n",
    "}"
   ]
  },
  {
   "cell_type": "code",
   "execution_count": null,
   "id": "20ddd079-cce7-40dc-bbdb-8e31e4350ce2",
   "metadata": {},
   "outputs": [],
   "source": [
    "def fit_config(server_round: int):\n",
    "    \"\"\"Return training configuration dict for each round.\"\"\"\n",
    "    config = {\n",
    "        \"batch_size\": 32,\n",
    "        \"current_round\": server_round,\n",
    "        \"local_epochs\": 2,\n",
    "    }\n",
    "    return config"
   ]
  }
 ],
 "metadata": {
  "kernelspec": {
   "display_name": "Python 3 (ipykernel)",
   "language": "python",
   "name": "python3"
  },
  "language_info": {
   "codemirror_mode": {
    "name": "ipython",
    "version": 3
   },
   "file_extension": ".py",
   "mimetype": "text/x-python",
   "name": "python",
   "nbconvert_exporter": "python",
   "pygments_lexer": "ipython3",
   "version": "3.9.13"
  }
 },
 "nbformat": 4,
 "nbformat_minor": 5
}
