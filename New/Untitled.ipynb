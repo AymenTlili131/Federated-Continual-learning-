{
 "cells": [
  {
   "cell_type": "code",
   "execution_count": 17,
   "id": "77eb910c-dcef-4911-af76-79db919f0ceb",
   "metadata": {},
   "outputs": [
    {
     "name": "stdout",
     "output_type": "stream",
     "text": [
      "Looking in indexes: https://pypi.org/simple, https://packagecloud.io/github/git-lfs/pypi/simple\n",
      "Collecting torch==1.11\n",
      "  Downloading torch-1.11.0-cp39-cp39-manylinux1_x86_64.whl (750.6 MB)\n",
      "\u001b[2K     \u001b[38;2;114;156;31m━━━━━━━━━━━━━━━━━━━━━━━━━━━━━━━━━━━━━━━\u001b[0m \u001b[32m750.6/750.6 MB\u001b[0m \u001b[31m2.8 MB/s\u001b[0m eta \u001b[36m0:00:00\u001b[0mm eta \u001b[36m0:00:01\u001b[0m[36m0:00:10\u001b[0m\n",
      "\u001b[?25hRequirement already satisfied: typing-extensions in /home/crns/anaconda3/lib/python3.9/site-packages (from torch==1.11) (4.9.0)\n",
      "Installing collected packages: torch\n",
      "  Attempting uninstall: torch\n",
      "    Found existing installation: torch 1.9.1\n",
      "    Uninstalling torch-1.9.1:\n",
      "      Successfully uninstalled torch-1.9.1\n",
      "\u001b[31mERROR: pip's dependency resolver does not currently take into account all the packages that are installed. This behaviour is the source of the following dependency conflicts.\n",
      "torchvision 0.10.1 requires torch==1.9.1, but you have torch 1.11.0 which is incompatible.\n",
      "torchtext 0.10.1 requires torch==1.9.1, but you have torch 1.11.0 which is incompatible.\n",
      "torchdata 0.5.1 requires torch==1.13.1, but you have torch 1.11.0 which is incompatible.\n",
      "torchaudio 0.9.1 requires torch==1.9.1, but you have torch 1.11.0 which is incompatible.\n",
      "pytorch-lightning 2.1.2 requires torch>=1.12.0, but you have torch 1.11.0 which is incompatible.\n",
      "neurips-2022-generative-hyper-representations 0.0.post1.dev11+g7707bb6.d20230411 requires ray>=1.13.0, but you have ray 1.8.0 which is incompatible.\u001b[0m\u001b[31m\n",
      "\u001b[0mSuccessfully installed torch-1.11.0\n"
     ]
    }
   ],
   "source": [
    "#!pip install avalanche-lib==0.3.1\n",
    "#!pip install torcheval\n"
   ]
  },
  {
   "cell_type": "code",
   "execution_count": 1,
   "id": "67987ec9-75b3-44c6-b850-c5d1d4451b3c",
   "metadata": {},
   "outputs": [],
   "source": [
    "from itertools import product\n",
    "from itertools import combinations\n",
    "\n",
    "from avalanche.benchmarks.classic import SplitMNIST\n",
    "from avalanche.benchmarks.generators import dataset_benchmark\n",
    "\n",
    "\n",
    "import torch\n",
    "import torchvision\n",
    "import torch.nn as nn\n",
    "from torch.utils.data import Dataset, DataLoader\n",
    "from torch.utils.tensorboard import SummaryWriter\n",
    "\n",
    "\n",
    "\n",
    "import torch.nn.functional as F\n",
    "from torcheval.metrics.functional import multiclass_confusion_matrix\n",
    "from torch.optim import Adam\n",
    "from torch.nn import CrossEntropyLoss\n",
    "\n",
    "from torchvision.utils import save_image\n",
    "from torchvision.transforms import ToTensor\n",
    "from torchvision.datasets import ImageFolder\n",
    "from torchvision import transforms\n",
    "\n",
    "from itertools import product\n",
    "from itertools import combinations\n",
    "\n",
    "\n",
    "import matplotlib.pyplot as plt \n",
    "import seaborn as sns\n",
    "from matplotlib.animation import FuncAnimation ,FFMpegWriter ,PillowWriter\n",
    "\n",
    "import dill\n",
    "import numpy as np\n",
    "import os\n",
    "import json\n",
    "import pandas as pd\n",
    "from tqdm import tqdm\n",
    "import copy"
   ]
  },
  {
   "cell_type": "code",
   "execution_count": null,
   "id": "c962115d-2eff-47cf-a980-13285f8443c4",
   "metadata": {},
   "outputs": [],
   "source": []
  },
  {
   "cell_type": "code",
   "execution_count": null,
   "id": "7e6eadc6-44b5-40f0-b1ba-64ba8e6f4d67",
   "metadata": {},
   "outputs": [],
   "source": []
  },
  {
   "cell_type": "code",
   "execution_count": null,
   "id": "2951af27-2afa-4e01-b81e-7b4b88752c3c",
   "metadata": {},
   "outputs": [],
   "source": []
  },
  {
   "cell_type": "code",
   "execution_count": 2,
   "id": "8323c49d-240a-4e46-98ec-c00e2e783a63",
   "metadata": {},
   "outputs": [],
   "source": [
    "device = torch.device(\"cuda:0\" if torch.cuda.is_available() else \"cpu\")"
   ]
  },
  {
   "cell_type": "code",
   "execution_count": 3,
   "id": "dc9a283b-6c51-47f1-93e2-c4e79ea40478",
   "metadata": {},
   "outputs": [],
   "source": [
    "#split_mnist = SplitMNIST(n_experiences=10)"
   ]
  },
  {
   "cell_type": "code",
   "execution_count": 4,
   "id": "926a8e77-fdc8-4f4e-8bc6-7c70bc816d7e",
   "metadata": {},
   "outputs": [
    {
     "data": {
      "text/plain": [
       "'for i in split_mnist.train_stream[0].dataset:\\n    print(i[0].shape)\\n    print(i[1])\\n    break\\n'"
      ]
     },
     "execution_count": 4,
     "metadata": {},
     "output_type": "execute_result"
    }
   ],
   "source": [
    "'''for i in split_mnist.train_stream[0].dataset:\n",
    "    print(i[0].shape)\n",
    "    print(i[1])\n",
    "    break\n",
    "'''"
   ]
  },
  {
   "cell_type": "code",
   "execution_count": 5,
   "id": "d9f92739-ad6c-4d5e-a3f1-6d74e19d8996",
   "metadata": {},
   "outputs": [
    {
     "data": {
      "text/plain": [
       "6"
      ]
     },
     "execution_count": 5,
     "metadata": {},
     "output_type": "execute_result"
    }
   ],
   "source": [
    "#split_mnist.train_stream[0].dataset[0][1]"
   ]
  },
  {
   "cell_type": "code",
   "execution_count": 6,
   "id": "2cabfe5e-9a5d-4ed7-9343-e7cfe1b46328",
   "metadata": {},
   "outputs": [
    {
     "data": {
      "text/plain": [
       "<matplotlib.image.AxesImage at 0x7f3e3b5a0e20>"
      ]
     },
     "execution_count": 6,
     "metadata": {},
     "output_type": "execute_result"
    },
    {
     "data": {
      "image/png": "[encoded data removed]",
      "text/plain": [
       "<Figure size 640x480 with 1 Axes>"
      ]
     },
     "metadata": {},
     "output_type": "display_data"
    }
   ],
   "source": [
    "#import matplotlib.pyplot as plt\n",
    "#plt.imshow(split_mnist.train_stream[0].dataset[0][0].numpy()[0], cmap='gray')"
   ]
  },
  {
   "cell_type": "code",
   "execution_count": 8,
   "id": "d4eecbbd-0b3e-4800-8e82-dc28bbc6e1a6",
   "metadata": {},
   "outputs": [
    {
     "data": {
      "text/plain": [
       "10"
      ]
     },
     "execution_count": 8,
     "metadata": {},
     "output_type": "execute_result"
    }
   ],
   "source": [
    "#len(split_mnist.train_stream)"
   ]
  },
  {
   "cell_type": "markdown",
   "id": "0c9b5f67-c020-4e1b-8e76-626d9e73039b",
   "metadata": {},
   "source": [
    "### Data creation"
   ]
  },
  {
   "cell_type": "code",
   "execution_count": null,
   "id": "617917ce-6b6c-4cf0-b2e8-4edcaa6f55cd",
   "metadata": {},
   "outputs": [],
   "source": [
    "for k in range(10):\n",
    "    if not(os.path.isdir(\".//data//SplitMnist//train//\")):\n",
    "        os.mkdir(\".//data//SplitMnist//train//\")\n",
    "    if not(os.path.isdir(\".//data//SplitMnist//train//{}\".format(k))):\n",
    "        os.mkdir(\".//data//SplitMnist//train//{}\".format(k))\n",
    "    if not(os.path.isdir(\".//data//SplitMnist//test//\")):\n",
    "        os.mkdir(\".//data//SplitMnist//test//\")\n",
    "    if not(os.path.isdir(\".//data//SplitMnist//test//{}\".format(k))):\n",
    "        os.mkdir(\".//data//SplitMnist//test//{}\".format(k))\n",
    "for i in tqdm(range(len(split_mnist.train_stream))):\n",
    "    for j in range(len(split_mnist.train_stream[i].dataset)):\n",
    "        save_image(split_mnist.train_stream[i].dataset[j][0], \".//data//SplitMnist//train//{}//{}.png\".format(split_mnist.train_stream[i].dataset[j][1],j))\n",
    "    #print(\"fold {}//{}//{}.png saved\".format(j,L_labels1[img_idx],test_index[img_idx]))"
   ]
  },
  {
   "cell_type": "code",
   "execution_count": null,
   "id": "e44a4607-d214-42be-91f5-70abb19441fb",
   "metadata": {},
   "outputs": [],
   "source": [
    "for i in tqdm(range(len(split_mnist.test_stream))):\n",
    "    for j in range(len(split_mnist.test_stream[i].dataset)):\n",
    "        save_image(split_mnist.test_stream[i].dataset[j][0], \".//data//SplitMnist//test//{}//{}.png\".format(split_mnist.test_stream[i].dataset[j][1],j))"
   ]
  },
  {
   "cell_type": "code",
   "execution_count": 10,
   "id": "acc29d06-1245-4330-bbe2-26ec015d3984",
   "metadata": {},
   "outputs": [],
   "source": [
    "from torchvision import datasets\n",
    "IMG_EXTENSIONS = ('.jpg', '.jpeg', '.png', '.ppm', '.bmp', '.pgm', '.tif', '.tiff', '.webp')\n",
    "\n",
    "class ClassSpecificImageFolder(datasets.DatasetFolder):\n",
    "    def __init__(\n",
    "            self,\n",
    "            root,\n",
    "            dropped_classes=[],\n",
    "            transform = None,\n",
    "            target_transform = None,\n",
    "            loader = datasets.folder.default_loader,\n",
    "            is_valid_file = None,\n",
    "    ):\n",
    "        self.dropped_classes = dropped_classes\n",
    "        super(ClassSpecificImageFolder, self).__init__(root, loader, IMG_EXTENSIONS if is_valid_file is None else None,\n",
    "                                                       transform=transform,\n",
    "                                                       target_transform=target_transform,\n",
    "                                                       is_valid_file=is_valid_file)\n",
    "        self.imgs = self.samples\n",
    "\n",
    "    def find_classes(self, directory):\n",
    "        classes = sorted(entry.name for entry in os.scandir(directory) if entry.is_dir())\n",
    "        classes = [c for c in classes if c not in self.dropped_classes]\n",
    "        if not classes:\n",
    "            raise FileNotFoundError(f\"Couldn't find any class folder in {directory}.\")\n",
    "\n",
    "        class_to_idx = {cls_name: i for i, cls_name in enumerate(classes)}\n",
    "        return classes, class_to_idx"
   ]
  },
  {
   "cell_type": "markdown",
   "id": "db54b1ba-e0b1-4548-b226-d56b2f1a0bf2",
   "metadata": {},
   "source": [
    "# Single experiences"
   ]
  },
  {
   "cell_type": "code",
   "execution_count": 5,
   "id": "23c365cf-2274-47d0-b722-20f8c6965f7b",
   "metadata": {},
   "outputs": [
    {
     "data": {
      "text/plain": [
       "1002"
      ]
     },
     "execution_count": 5,
     "metadata": {},
     "output_type": "execute_result"
    }
   ],
   "source": [
    "ListExperiences=list()\n",
    "\n",
    "All=list(range(10))\n",
    "for sample in range(2,9,1):\n",
    "    S=combinations(range(10), sample)\n",
    "    #All=list(range(10))\n",
    "    for i in S :\n",
    "        L1=list(i)\n",
    "        L2=[k for k in All if k not in L1] \n",
    "        ListExperiences.append(L1)\n",
    "len(ListExperiences)"
   ]
  },
  {
   "cell_type": "markdown",
   "id": "9c8533bd-5beb-417f-870f-7ed2b6e996d3",
   "metadata": {},
   "source": [
    "# Pairs of experiences (with and without repetition)"
   ]
  },
  {
   "cell_type": "code",
   "execution_count": 6,
   "id": "389f51b4-8d6b-4c29-ad36-93f9c5ede45d",
   "metadata": {},
   "outputs": [
    {
     "data": {
      "text/plain": [
       "46872"
      ]
     },
     "execution_count": 6,
     "metadata": {},
     "output_type": "execute_result"
    }
   ],
   "source": [
    "Pairs_exp=list()\n",
    "\n",
    "All=list(range(10))\n",
    "for sample in range(2,9,1):\n",
    "    S=combinations(range(10), sample)\n",
    "    #All=list(range(10))\n",
    "    for i in S :\n",
    "        L1=list(i)\n",
    "        L2=[k for k in All if k not in L1] \n",
    "        for sample2 in range(2,9,1):\n",
    "            S2=combinations(L2, sample2)\n",
    "            for j in S2:\n",
    "                pair=[]\n",
    "                pair.append(L1)\n",
    "                sub=list(j)\n",
    "                pair.append(sub)\n",
    "                Pairs_exp.append(pair)\n",
    "len(Pairs_exp)"
   ]
  },
  {
   "cell_type": "code",
   "execution_count": 7,
   "id": "324efcee-a06a-4286-9a1e-fd840629debc",
   "metadata": {},
   "outputs": [
    {
     "data": {
      "text/plain": [
       "23436"
      ]
     },
     "execution_count": 7,
     "metadata": {},
     "output_type": "execute_result"
    }
   ],
   "source": [
    "Pairs_exp=list()\n",
    "All=list(range(10))\n",
    "for sample in range(2,9,1):\n",
    "    S=combinations(range(10), sample)\n",
    "    #All=list(range(10))\n",
    "    for i in S :\n",
    "        L1=list(i)\n",
    "        L2=[k for k in All if k not in L1] \n",
    "        for sample2 in range(2,9,1):\n",
    "            S2=combinations(L2, sample2)\n",
    "            for j in S2:\n",
    "                pair=[]\n",
    "                pair.append(L1)\n",
    "                sub=list(j)\n",
    "                pair.append(sub)\n",
    "                pair.sort()\n",
    "                if pair not in Pairs_exp :\n",
    "                    Pairs_exp.append(pair)\n",
    "len(Pairs_exp)             "
   ]
  },
  {
   "cell_type": "code",
   "execution_count": null,
   "id": "7d11a07e-8d46-490b-b57c-9bdc6e1a565f",
   "metadata": {},
   "outputs": [],
   "source": [
    "#Pairs_exp[0] ,Pairs_exp[10000],Pairs_exp[20000],Pairs_exp[30000],Pairs_exp[40000],Pairs_exp[46871]"
   ]
  },
  {
   "cell_type": "code",
   "execution_count": 5,
   "id": "e287cc8e-5bc6-4c42-8dd3-b2198aa1a9a9",
   "metadata": {},
   "outputs": [
    {
     "data": {
      "text/plain": [
       "([0, 1], [1, 3, 4, 5, 6, 7, 8, 9])"
      ]
     },
     "execution_count": 5,
     "metadata": {},
     "output_type": "execute_result"
    }
   ],
   "source": [
    "ListExperiences[0] ,ListExperiences[1000]"
   ]
  },
  {
   "cell_type": "code",
   "execution_count": 8,
   "id": "8ce5ffef-4c2e-46d2-b7ed-0e9c0fba16cb",
   "metadata": {},
   "outputs": [],
   "source": [
    "device = torch.device(\"cuda:0\" if torch.cuda.is_available() else \"cpu\")\n",
    "\n",
    "\n",
    "class CNN(nn.Module):\n",
    "    def __init__(\n",
    "        self,\n",
    "        channels_in,\n",
    "        nlin=\"leakyrelu\",\n",
    "        dropout=0.0,\n",
    "        init_type=\"uniform\",\n",
    "    ):\n",
    "        super().__init__()\n",
    "        # init module list\n",
    "        self.module_list = nn.ModuleList()\n",
    "        ### ASSUMES 28x28 image size\n",
    "        ## compose layer 1\n",
    "        self.module_list.append(nn.Conv2d(channels_in, 8, 5))\n",
    "        self.module_list.append(nn.MaxPool2d(2, 2))\n",
    "        self.module_list.append(self.get_nonlin(nlin))\n",
    "        # apply dropout\n",
    "        if dropout > 0:\n",
    "            self.module_list.append(nn.Dropout(dropout))\n",
    "        ## compose layer 2\n",
    "        self.module_list.append(nn.Conv2d(8, 6, 5))\n",
    "        self.module_list.append(nn.MaxPool2d(2, 2))\n",
    "        self.module_list.append(self.get_nonlin(nlin))\n",
    "        ## add dropout\n",
    "        if dropout > 0:\n",
    "            self.module_list.append(nn.Dropout(dropout))\n",
    "        ## compose layer 3\n",
    "        self.module_list.append(nn.Conv2d(6, 4, 2))\n",
    "        self.module_list.append(self.get_nonlin(nlin))\n",
    "        ## add flatten layer\n",
    "        self.module_list.append(nn.Flatten())\n",
    "        ## add linear layer 1\n",
    "        self.module_list.append(nn.Linear(3 * 3 * 4, 20))\n",
    "        self.module_list.append(self.get_nonlin(nlin))\n",
    "        ## add dropout\n",
    "        if dropout > 0:\n",
    "            self.module_list.append(nn.Dropout(dropout))\n",
    "        ## add linear layer 1\n",
    "        self.module_list.append(nn.Linear(20, 10))\n",
    "\n",
    "        ### initialize weights with se methods\n",
    "        self.initialize_weights(init_type)\n",
    "\n",
    "    def initialize_weights(self, init_type):\n",
    "        # print(\"initialze model\")\n",
    "        for m in self.module_list:\n",
    "            if type(m) == nn.Linear or type(m) == nn.Conv2d:\n",
    "                if init_type == \"xavier_uniform\":\n",
    "                    torch.nn.init.xavier_uniform_(m.weight)\n",
    "                if init_type == \"xavier_normal\":\n",
    "                    torch.nn.init.xavier_normal_(m.weight)\n",
    "                if init_type == \"uniform\":\n",
    "                    torch.nn.init.uniform_(m.weight)\n",
    "                if init_type == \"normal\":\n",
    "                    torch.nn.init.normal_(m.weight)\n",
    "                if init_type == \"kaiming_normal\":\n",
    "                    torch.nn.init.kaiming_normal_(m.weight)\n",
    "                if init_type == \"kaiming_uniform\":\n",
    "                    torch.nn.init.kaiming_uniform_(m.weight)\n",
    "                # set bias to some small non-zero value\n",
    "                m.bias.data.fill_(0.01)\n",
    "\n",
    "    def get_nonlin(self, nlin):\n",
    "        # apply nonlinearity\n",
    "        if nlin == \"leakyrelu\":\n",
    "            return nn.LeakyReLU()\n",
    "        if nlin == \"relu\":\n",
    "            return nn.ReLU()\n",
    "        if nlin == \"tanh\":\n",
    "            return nn.Tanh()\n",
    "        if nlin == \"sigmoid\":\n",
    "            return nn.Sigmoid()\n",
    "        if nlin == \"silu\":\n",
    "            return nn.SiLU()\n",
    "        if nlin == \"gelu\":\n",
    "            return nn.GELU()\n",
    "\n",
    "\n",
    "    def forward(self, x):\n",
    "        # forward prop through module_list\n",
    "        for layer in self.module_list:\n",
    "            x = layer(x)\n",
    "        return x\n",
    "\n",
    "    def forward_activations(self, x):\n",
    "        # forward prop through module_list\n",
    "        activations = []\n",
    "        for layer in self.module_list:\n",
    "            x = layer(x)\n",
    "            if (\n",
    "                isinstance(layer, nn.Tanh)\n",
    "                or isinstance(layer, nn.Sigmoid)\n",
    "                or isinstance(layer, nn.ReLU)\n",
    "                or isinstance(layer, nn.LeakyReLU)\n",
    "                or isinstance(layer, nn.SiLU)\n",
    "                or isinstance(layer, nn.GELU)\n",
    "                or isinstance(layer, ORU)\n",
    "                or isinstance(layer, ERU)\n",
    "            ):\n",
    "                activations.append(x)\n",
    "        return x, activations\n",
    "def train(model, trainloader, optimizer, criterion,nb_classes):\n",
    "    List_mx=[]\n",
    "    model.train()\n",
    "    #print('Training')\n",
    "    train_running_loss = 0.0\n",
    "    train_running_correct = 0\n",
    "    counter = 0\n",
    "    for i, data in enumerate(trainloader):\n",
    "        counter += 1\n",
    "        image, labels = data\n",
    "        image = image.to(device)\n",
    "        labels = labels.to(device)\n",
    "        optimizer.zero_grad()\n",
    "        # forward pass\n",
    "        outputs = model(image)\n",
    "        # calculate the loss\n",
    "        loss = criterion(outputs, labels)\n",
    "        train_running_loss += loss.item()\n",
    "        # calculate the accuracy\n",
    "        _, preds = torch.max(outputs.data, 1)\n",
    "        train_running_correct += (preds == labels).sum().item()\n",
    "        mx=multiclass_confusion_matrix(preds ,labels,nb_classes,normalize=\"pred\")\n",
    "        List_mx.append(mx)\n",
    "        # backpropagation\n",
    "        loss.backward()\n",
    "        # update the optimizer parameters\n",
    "        optimizer.step()\n",
    "    \n",
    "    # loss and accuracy for the complete epoch\n",
    "    epoch_loss = train_running_loss / counter\n",
    "    epoch_acc = 100. * (train_running_correct / len(trainloader.dataset))\n",
    "    return epoch_loss, epoch_acc,List_mx\n",
    "\n",
    "\n",
    "def validate(model, testloader, criterion,nb_classes):\n",
    "    List_mx=[]\n",
    "    model.eval()\n",
    "    valid_running_loss = 0.0\n",
    "    valid_running_correct = 0\n",
    "    counter = 0\n",
    "    with torch.no_grad():\n",
    "        for i, data in enumerate(testloader):\n",
    "            counter += 1\n",
    "            \n",
    "            image, labels = data\n",
    "            image = image.to(device)\n",
    "            labels = labels.to(device)\n",
    "            # forward pass\n",
    "            outputs = model(image)\n",
    "            # calculate the loss\n",
    "            loss = criterion(outputs, labels)\n",
    "            valid_running_loss += loss.item()\n",
    "            # calculate the accuracy\n",
    "            _, preds = torch.max(outputs.data, 1)\n",
    "            valid_running_correct += (preds == labels).sum().item()\n",
    "            mx=multiclass_confusion_matrix(preds ,labels,nb_classes,normalize=\"pred\")\n",
    "            List_mx.append(mx)\n",
    "        \n",
    "    # loss and accuracy for the complete epoch\n",
    "    epoch_loss = valid_running_loss / counter\n",
    "    epoch_acc = 100. * (valid_running_correct / len(testloader.dataset))\n",
    "    return epoch_loss, epoch_acc,List_mx\n",
    "def create_frame(step,ax,data):\n",
    "    ax=ax.cla()\n",
    "    sns.heatmap(data[step][-1].cpu(),annot=True,cmap=\"cubehelix\",ax=ax,cbar=False)\n",
    "    plt.title('Epoch {} training {}'.format(step,exp)  )"
   ]
  },
  {
   "cell_type": "code",
   "execution_count": null,
   "id": "480e2b73-792a-46fa-8c00-c6fb0c0cfe99",
   "metadata": {},
   "outputs": [],
   "source": []
  },
  {
   "cell_type": "code",
   "execution_count": 90,
   "id": "b82e4182-0ae4-40d0-a969-1686006a5ef1",
   "metadata": {},
   "outputs": [
    {
     "data": {
      "text/plain": [
       "<AxesSubplot:>"
      ]
     },
     "execution_count": 90,
     "metadata": {},
     "output_type": "execute_result"
    },
    {
     "data": {
      "image/png": "[encoded data removed]",
      "text/plain": [
       "<Figure size 640x480 with 2 Axes>"
      ]
     },
     "metadata": {},
     "output_type": "display_data"
    }
   ],
   "source": [
    "from torcheval.metrics.functional import multiclass_confusion_matrix\n",
    "\n",
    "nput = torch.tensor([0, 0, 9, 0])\n",
    "target = torch.tensor([0, 1,9 , 0])\n",
    "\n",
    "\n"
   ]
  },
  {
   "cell_type": "code",
   "execution_count": null,
   "id": "4c30f639-912b-48fa-9edb-235ebc716e88",
   "metadata": {},
   "outputs": [],
   "source": []
  },
  {
   "cell_type": "code",
   "execution_count": null,
   "id": "fb8b0c44-03e9-4c2c-bde1-de956986d139",
   "metadata": {},
   "outputs": [],
   "source": []
  },
  {
   "cell_type": "code",
   "execution_count": null,
   "id": "bafd0ab0-f75a-48fb-935d-59c31643483b",
   "metadata": {},
   "outputs": [],
   "source": []
  },
  {
   "cell_type": "code",
   "execution_count": 8,
   "id": "1fdb51e4-2fb2-4801-98ee-f05949c20116",
   "metadata": {},
   "outputs": [],
   "source": [
    "train_loaders_paths=[ \"./data/SplitMnist/train/{}\".format(x) for x in range(10)]\n",
    "test_loaders_paths=[ \"./data/SplitMnist/test/{}\".format(x) for x in range(10)]"
   ]
  },
  {
   "cell_type": "code",
   "execution_count": null,
   "id": "80539d61-02e7-4285-9fc2-83f179ba04af",
   "metadata": {},
   "outputs": [
    {
     "name": "stdout",
     "output_type": "stream",
     "text": [
      "[INFO]: Epoch 1 of 40 0 silu\n",
      "Training loss: 0.546, training acc: 82.540\n",
      "Validation loss: 0.206, validation acc 1: 93.660\n",
      "--------------------------------------------------\n",
      "[INFO]: Epoch 2 of 40 0 silu\n",
      "Training loss: 0.171, training acc: 94.847\n",
      "Validation loss: 0.137, validation acc 1: 95.743\n",
      "--------------------------------------------------\n",
      "[INFO]: Epoch 3 of 40 0 silu\n",
      "Training loss: 0.131, training acc: 95.990\n",
      "Validation loss: 0.121, validation acc 1: 96.283\n",
      "--------------------------------------------------\n",
      "[INFO]: Epoch 4 of 40 0 silu\n",
      "Training loss: 0.110, training acc: 96.665\n",
      "Validation loss: 0.102, validation acc 1: 96.828\n",
      "--------------------------------------------------\n",
      "[INFO]: Epoch 5 of 40 0 silu\n",
      "Training loss: 0.099, training acc: 97.002\n",
      "Validation loss: 0.090, validation acc 1: 97.148\n",
      "--------------------------------------------------\n",
      "[INFO]: Epoch 6 of 40 0 silu\n",
      "Training loss: 0.090, training acc: 97.217\n",
      "Validation loss: 0.080, validation acc 1: 97.500\n",
      "--------------------------------------------------\n",
      "[INFO]: Epoch 7 of 40 0 silu\n",
      "Training loss: 0.082, training acc: 97.447\n",
      "Validation loss: 0.083, validation acc 1: 97.413\n",
      "--------------------------------------------------\n",
      "[INFO]: Epoch 8 of 40 0 silu\n",
      "Training loss: 0.077, training acc: 97.583\n",
      "Validation loss: 0.086, validation acc 1: 97.317\n",
      "--------------------------------------------------\n",
      "[INFO]: Epoch 9 of 40 0 silu\n",
      "Training loss: 0.072, training acc: 97.765\n",
      "Validation loss: 0.068, validation acc 1: 97.917\n",
      "--------------------------------------------------\n",
      "[INFO]: Epoch 10 of 40 0 silu\n",
      "Training loss: 0.068, training acc: 97.857\n",
      "Validation loss: 0.062, validation acc 1: 98.105\n",
      "--------------------------------------------------\n",
      "[INFO]: Epoch 11 of 40 0 silu\n",
      "Training loss: 0.065, training acc: 98.007\n",
      "Validation loss: 0.062, validation acc 1: 98.062\n",
      "stagnation\n",
      "[INFO]: Epoch 12 of 40 0 silu\n",
      "Training loss: 0.062, training acc: 98.050\n",
      "Validation loss: 0.055, validation acc 1: 98.292\n",
      "--------------------------------------------------\n",
      "[INFO]: Epoch 13 of 40 0 silu\n",
      "Training loss: 0.059, training acc: 98.145\n",
      "Validation loss: 0.058, validation acc 1: 98.147\n",
      "--------------------------------------------------\n",
      "[INFO]: Epoch 14 of 40 0 silu\n",
      "Training loss: 0.057, training acc: 98.215\n",
      "Validation loss: 0.049, validation acc 1: 98.495\n",
      "--------------------------------------------------\n",
      "[INFO]: Epoch 15 of 40 0 silu\n",
      "Training loss: 0.056, training acc: 98.237\n",
      "Validation loss: 0.048, validation acc 1: 98.543\n",
      "stagnation\n",
      "[INFO]: Epoch 16 of 40 0 silu\n",
      "Training loss: 0.054, training acc: 98.320\n",
      "Validation loss: 0.046, validation acc 1: 98.540\n",
      "stagnation\n",
      "[INFO]: Epoch 17 of 40 0 silu\n"
     ]
    }
   ],
   "source": [
    "#train_loaders_paths=[ \"./data/SplitMnist/train/{}\".format(x) for x in range(10)]\n",
    "#test_loaders_paths=[ \"./data/SplitMnist/test/{}\".format(x) for x in range(10)]\n",
    "\n",
    "\n",
    "torch.manual_seed(887)\n",
    "L_activations=[\"silu\"]#,\"leakyrelu\",\"sigmoid\"]#,\"relu\",\"gelu\",\"tanh\"]\n",
    "L_inits=[\"kaiming_uniform\"]\n",
    "\n",
    "\n",
    "\n",
    "All=list(range(10))\n",
    "patience=3\n",
    "Margin=0.05\n",
    "for i in range(len(L_activations)):\n",
    "    for t,exp in enumerate(ListExperiences[906:]):\n",
    "        L_train_acc=[]\n",
    "        L_train_loss=[]\n",
    "        L_test_acc_0=[]\n",
    "        L_test_loss_0=[]\n",
    "        \n",
    "        L2=[k for k in All if k not in exp] \n",
    "        train_IF=ClassSpecificImageFolder( root=\"./data/SplitMnist/train/\",dropped_classes=L2,transform=transforms.Compose([ transforms.ToTensor(),transforms.Grayscale(1)]))\n",
    "        T_DL = DataLoader(dataset=train_IF, batch_size=90, num_workers=0, shuffle=True)\n",
    "        test_IF=ClassSpecificImageFolder( root=\"./data/SplitMnist/test/\",dropped_classes=L2,transform=transforms.Compose([ transforms.ToTensor(),transforms.Grayscale(1)]))\n",
    "        Ts_DL = DataLoader(dataset=train_IF, batch_size=90, num_workers=0, shuffle=True)\n",
    "\n",
    "        model = CNN(1,L_activations[i],0,L_inits[0])\n",
    "        if not(os.path.isdir('./checkpoints/')):\n",
    "            os.mkdir('./checkpoints/')\n",
    "        if not(os.path.isdir('./checkpoints/{}/'.format(exp))):\n",
    "            os.mkdir('./checkpoints/{}/'.format(exp))\n",
    "        if not(os.path.isdir('./checkpoints/{}/{}'.format(exp,L_activations[i]))):\n",
    "            os.mkdir('./checkpoints/{}/{}'.format(exp,L_activations[i]))\n",
    "        if not(os.path.isdir('./checkpoints/{}/{}/metrics/'.format(exp,L_activations[i]))):\n",
    "            os.mkdir('./checkpoints/{}/{}/metrics/'.format(exp,L_activations[i]))\n",
    "\n",
    "\n",
    "        # lists to keep track of losses and accuracies\n",
    "        train_loss, valid_loss_0 = [], [] \n",
    "        train_acc, valid_acc_0 = [], []\n",
    "        train_confus,test_confus =[] , []\n",
    "        Brain=copy.deepcopy(model)\n",
    "        Brain=Brain.to(device)\n",
    "\n",
    "        optimizer = Adam(Brain.parameters(), lr=0.05)\n",
    "        scheduler = torch.optim.lr_scheduler.CyclicLR(optimizer, base_lr=1e-3, max_lr=0.1, step_size_up=1, mode=\"triangular2\", cycle_momentum=False)\n",
    "\n",
    "        criterion = CrossEntropyLoss()\n",
    "\n",
    "        valid_epoch_loss0, valid_epoch_acc0,L_mx_st = validate(Brain, Ts_DL,criterion,10)\n",
    "        valid_loss_0.append(valid_epoch_loss0)\n",
    "        valid_acc_0.append(valid_epoch_acc0)\n",
    "        test_confus.append(L_mx_st)\n",
    "        #print(f\"Validation loss: {valid_epoch_loss0:.3f}, validation acc 1: {valid_epoch_acc0:.3f}\")\n",
    "\n",
    "        #print('-'*50)\n",
    "        # start the training\n",
    "        stagnate=0\n",
    "        for epoch in range(40):\n",
    "            print(f\"[INFO]: Epoch {epoch+1} of 40\" , t ,L_activations[i])\n",
    "            train_epoch_loss, train_epoch_acc ,L_mx = train(Brain, T_DL, optimizer, criterion,10)\n",
    "            train_confus.append(L_mx)\n",
    "            train_loss.append(train_epoch_loss)\n",
    "            train_acc.append(train_epoch_acc)\n",
    "            valid_epoch_loss0, valid_epoch_acc0,L_mx= validate(Brain, Ts_DL,  criterion,10)\n",
    "            test_confus.append(L_mx)\n",
    "            valid_loss_0.append(valid_epoch_loss0)\n",
    "            valid_acc_0.append(valid_epoch_acc0)\n",
    "            print(f\"Training loss: {train_epoch_loss:.3f}, training acc: {train_epoch_acc:.3f}\")\n",
    "            print(f\"Validation loss: {valid_epoch_loss0:.3f}, validation acc 1: {valid_epoch_acc0:.3f}\")\n",
    "\n",
    "            if (valid_epoch_acc0 >60) and (epoch >= 9):\n",
    "                if epoch %5==1:\n",
    "                    torch.save({'epoch': aux,'model_state_dict': Brain.state_dict(),'optimizer_state_dict': optimizer.state_dict(),},'./checkpoints/{}/{}/checkpoint epoch {}.pth'.format(exp,L_activations[i],epoch))\n",
    "                if (abs(valid_epoch_acc0-valid_acc_0[-2])<=Margin)  :\n",
    "                    print(\"stagnation\")\n",
    "                    stagnate=stagnate+1\n",
    "                    if stagnate==patience :\n",
    "                        epoch=-1\n",
    "                    else:\n",
    "                        continue\n",
    "                else:\n",
    "                    stagnate=0\n",
    "                aux=epoch\n",
    "                if (epoch==-1) :\n",
    "                    aux=epoch\n",
    "                    break\n",
    "            print('-'*50)\n",
    "\n",
    "\n",
    "        #torch.save(Brain.state_dict(),'./checkpoints/{}/{}/{}/checkpoint.pth'.format(ListExperiences[exp_idx][:5],activ,init))\n",
    "        torch.save({'epoch': aux,'model_state_dict': Brain.state_dict(),'optimizer_state_dict': optimizer.state_dict(),},'./checkpoints/{}/{}/checkpoint.pth'.format(exp,L_activations[i]))\n",
    "        L_train_acc.append(train_acc)\n",
    "        L_train_loss.append(train_loss)\n",
    "        L_test_acc_0.append(valid_acc_0)\n",
    "        L_test_loss_0.append(valid_loss_0)\n",
    "\n",
    "        direct='./checkpoints/{}/{}/metrics/'.format(exp,L_activations[i])\n",
    "        M=np.array(L_test_acc_0) \n",
    "        np.save(direct+\"Test Accuracy IID.npy\", M)\n",
    "\n",
    "        H=np.array(L_test_loss_0)\n",
    "        np.save(direct+\"Test Loss IID.npy\",H)\n",
    "\n",
    "\n",
    "        N=np.array(L_train_acc)\n",
    "        np.save(direct+\"Train Acc.npy\",N)\n",
    "\n",
    "        O=np.array(L_train_loss)\n",
    "        np.save(direct+\"Train Loss.npy\",O)\n",
    "        \n",
    "        P=[train_confus[i][-1].cpu() for i in range(len(train_confus))]\n",
    "        P=torch.stack(P)\n",
    "        P=np.transpose(P, (1, 2, 0))\n",
    "        np.save(direct+\"multiclass train Confusion matrix raw.npy\",P)\n",
    "        \n",
    "        W=[test_confus[i][-1].cpu() for i in range(len(test_confus))]\n",
    "        W=torch.stack(W)\n",
    "        W=np.transpose(W, (1, 2, 0))\n",
    "        np.save(direct+\"multiclass test Confusion matrix raw.npy\",W)\n",
    "        \n",
    "        fig, ax = plt.subplots() \n",
    "        ax.cla()\n",
    "        animation = FuncAnimation(fig, create_frame, frames=len(train_confus), fargs=(ax,train_confus))\n",
    "        wr=PillowWriter(fps=1)\n",
    "        animation.save('./checkpoints/{}/{}/metrics/Training mcx.gif'.format(exp,L_activations[i]) , writer=wr)\n",
    "        fig, ax = plt.subplots() \n",
    "        ax.cla()\n",
    "        animation = FuncAnimation(fig, create_frame, frames=len(test_confus), fargs=(ax,test_confus))\n",
    "        wr=PillowWriter(fps=1)\n",
    "        animation.save('./checkpoints/{}/{}/metrics/Testing mcx.gif'.format(exp,L_activations[i]) , writer=wr)\n"
   ]
  },
  {
   "cell_type": "code",
   "execution_count": 13,
   "id": "46f490cf-2c71-4118-89af-fa0b5e8ed75c",
   "metadata": {},
   "outputs": [
    {
     "name": "stdout",
     "output_type": "stream",
     "text": [
      "10\n"
     ]
    }
   ],
   "source": []
  },
  {
   "cell_type": "code",
   "execution_count": null,
   "id": "ab7a48cc-01ed-4fdf-8239-11054c91982a",
   "metadata": {},
   "outputs": [],
   "source": []
  },
  {
   "cell_type": "code",
   "execution_count": null,
   "id": "c630fb9b-bf05-43f9-95d7-323a211e4fb9",
   "metadata": {},
   "outputs": [],
   "source": []
  },
  {
   "cell_type": "code",
   "execution_count": 56,
   "id": "c58ad9dc-d6f9-48ef-9b04-da0541e6d458",
   "metadata": {},
   "outputs": [
    {
     "data": {
      "image/png": "[encoded data removed]",
      "text/plain": [
       "<Figure size 640x480 with 1 Axes>"
      ]
     },
     "metadata": {},
     "output_type": "display_data"
    }
   ],
   "source": []
  },
  {
   "cell_type": "code",
   "execution_count": 74,
   "id": "7f8e7aae-ae9f-427c-b0de-c97dccf5a42b",
   "metadata": {},
   "outputs": [],
   "source": []
  },
  {
   "cell_type": "code",
   "execution_count": null,
   "id": "4e8770aa-e5e1-40a5-94bb-25d9adf77af5",
   "metadata": {},
   "outputs": [],
   "source": []
  },
  {
   "cell_type": "code",
   "execution_count": null,
   "id": "44b1f0d1-0159-4154-8ad9-c110697e971b",
   "metadata": {},
   "outputs": [],
   "source": []
  },
  {
   "cell_type": "code",
   "execution_count": null,
   "id": "30512354-7922-4443-bd1c-e7bab2a72ac0",
   "metadata": {},
   "outputs": [],
   "source": []
  },
  {
   "cell_type": "code",
   "execution_count": null,
   "id": "bf755c23-ef0c-48d6-9fbf-e8ed8862f35f",
   "metadata": {},
   "outputs": [],
   "source": []
  },
  {
   "cell_type": "code",
   "execution_count": null,
   "id": "e1c386ba-8d07-4db9-b682-98c6949e37d8",
   "metadata": {},
   "outputs": [],
   "source": []
  },
  {
   "cell_type": "code",
   "execution_count": null,
   "id": "208ec2f5-0222-48bc-8011-01542cd27baa",
   "metadata": {},
   "outputs": [],
   "source": []
  },
  {
   "cell_type": "code",
   "execution_count": null,
   "id": "be3d6e0b-b674-4c11-883c-b077e17b3d87",
   "metadata": {},
   "outputs": [],
   "source": []
  },
  {
   "cell_type": "code",
   "execution_count": null,
   "id": "4ca690d7-667d-44d6-8a25-1aba073df4b2",
   "metadata": {},
   "outputs": [],
   "source": []
  }
 ],
 "metadata": {
  "kernelspec": {
   "display_name": "Python 3 (ipykernel)",
   "language": "python",
   "name": "python3"
  },
  "language_info": {
   "codemirror_mode": {
    "name": "ipython",
    "version": 3
   },
   "file_extension": ".py",
   "mimetype": "text/x-python",
   "name": "python",
   "nbconvert_exporter": "python",
   "pygments_lexer": "ipython3",
   "version": "3.9.13"
  },
  "toc-autonumbering": true
 },
 "nbformat": 4,
 "nbformat_minor": 5
}
