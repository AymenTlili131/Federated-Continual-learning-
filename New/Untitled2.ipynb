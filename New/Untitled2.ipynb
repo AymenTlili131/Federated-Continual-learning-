{
 "cells": [
  {
   "cell_type": "code",
   "execution_count": 2,
   "id": "91035d70-484d-48c7-b0a1-c6bd83156dd8",
   "metadata": {},
   "outputs": [
    {
     "data": {
      "text/html": [
       "<div>\n",
       "<style scoped>\n",
       "    .dataframe tbody tr th:only-of-type {\n",
       "        vertical-align: middle;\n",
       "    }\n",
       "\n",
       "    .dataframe tbody tr th {\n",
       "        vertical-align: top;\n",
       "    }\n",
       "\n",
       "    .dataframe thead th {\n",
       "        text-align: right;\n",
       "    }\n",
       "</style>\n",
       "<table border=\"1\" class=\"dataframe\">\n",
       "  <thead>\n",
       "    <tr style=\"text-align: right;\">\n",
       "      <th></th>\n",
       "      <th>Epoch_1</th>\n",
       "      <th>Epoch_2</th>\n",
       "      <th>Epoch_3</th>\n",
       "      <th>Epoch_4</th>\n",
       "      <th>Epoch_5</th>\n",
       "      <th>Epoch_6</th>\n",
       "      <th>Epoch_7</th>\n",
       "      <th>Epoch_8</th>\n",
       "      <th>Epoch_9</th>\n",
       "      <th>Epoch_10</th>\n",
       "    </tr>\n",
       "  </thead>\n",
       "  <tbody>\n",
       "    <tr>\n",
       "      <th>0</th>\n",
       "      <td>0.8</td>\n",
       "      <td>0.82</td>\n",
       "      <td>0.85</td>\n",
       "      <td>0.87</td>\n",
       "      <td>0.89</td>\n",
       "      <td>0.9</td>\n",
       "      <td>0.91</td>\n",
       "      <td>0.92</td>\n",
       "      <td>0.93</td>\n",
       "      <td>0.94</td>\n",
       "    </tr>\n",
       "  </tbody>\n",
       "</table>\n",
       "</div>"
      ],
      "text/plain": [
       "   Epoch_1  Epoch_2  Epoch_3  Epoch_4  Epoch_5  Epoch_6  Epoch_7  Epoch_8  \\\n",
       "0      0.8     0.82     0.85     0.87     0.89      0.9     0.91     0.92   \n",
       "\n",
       "   Epoch_9  Epoch_10  \n",
       "0     0.93      0.94  "
      ]
     },
     "execution_count": 2,
     "metadata": {},
     "output_type": "execute_result"
    }
   ],
   "source": []
  },
  {
   "cell_type": "code",
   "execution_count": null,
   "id": "b377e227-266f-49ed-9742-fd13cdb54e3a",
   "metadata": {},
   "outputs": [],
   "source": []
  }
 ],
 "metadata": {
  "kernelspec": {
   "display_name": "Python 3 (ipykernel)",
   "language": "python",
   "name": "python3"
  },
  "language_info": {
   "codemirror_mode": {
    "name": "ipython",
    "version": 3
   },
   "file_extension": ".py",
   "mimetype": "text/x-python",
   "name": "python",
   "nbconvert_exporter": "python",
   "pygments_lexer": "ipython3",
   "version": "3.9.13"
  }
 },
 "nbformat": 4,
 "nbformat_minor": 5
}
